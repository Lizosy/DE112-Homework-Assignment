{
  "nbformat": 4,
  "nbformat_minor": 0,
  "metadata": {
    "colab": {
      "provenance": [],
      "toc_visible": true
    },
    "kernelspec": {
      "name": "python3",
      "display_name": "Python 3"
    },
    "language_info": {
      "name": "python"
    }
  },
  "cells": [
    {
      "cell_type": "markdown",
      "metadata": {
        "id": "p4vADmeqGPox"
      },
      "source": [
        "# Homework:\n",
        "1. Write a Python program to construct the following pattern, using a nested  loop.\n",
        "\n",
        "```\n",
        "Input: 3\n",
        "Output:\n",
        "1\n",
        "22\n",
        "333\n",
        "```\n",
        "2. Write a Python program to construct the following pattern, using a nested  loop.\n",
        "\n",
        "```\n",
        "Input: 4\n",
        "Output:\n",
        "   1\n",
        "  22\n",
        " 333\n",
        "4444\n",
        "```\n",
        "\n",
        "3. Write a Python program to convert the string of digits to English equivalent (digit by digit) using while statement.\n",
        "\n",
        "```\n",
        "String of digits: 0123\n",
        "English: Zero-One-Two-Three\n",
        "```\n",
        "\n",
        "```\n",
        "String of digits: 13535\n",
        "English: One-Three-Five-Three-Five\n",
        "```\n"
      ]
    },
    {
      "cell_type": "code",
      "source": [
        "n = int(input(\"Enter a number: \"))\n",
        "\n",
        "for i in range(1, n+1):\n",
        "    for j in range(i):\n",
        "        print(i, end=\"\")\n",
        "    print()"
      ],
      "metadata": {
        "colab": {
          "base_uri": "https://localhost:8080/"
        },
        "id": "80sA4TRMg6eE",
        "outputId": "04c34904-92ab-4fb4-98fe-44b596d14be6"
      },
      "execution_count": null,
      "outputs": [
        {
          "output_type": "stream",
          "name": "stdout",
          "text": [
            "Enter a number: 12\n",
            "1\n",
            "22\n",
            "333\n",
            "4444\n",
            "55555\n",
            "666666\n",
            "7777777\n",
            "88888888\n",
            "999999999\n",
            "10101010101010101010\n",
            "1111111111111111111111\n",
            "121212121212121212121212\n"
          ]
        }
      ]
    },
    {
      "cell_type": "code",
      "source": [
        "n = int(input(\"Enter a number: \"))\n",
        "\n",
        "for i in range(1, n+1):\n",
        "    for j in range(n-i):\n",
        "        print(\" \", end=\"\")\n",
        "\n",
        "    for _ in range(i):\n",
        "        print(i, end=\"\")\n",
        "\n",
        "    print()"
      ],
      "metadata": {
        "colab": {
          "base_uri": "https://localhost:8080/"
        },
        "id": "SMca-h1ZhR0r",
        "outputId": "b45eb9ad-f8c4-4d86-cf39-f6a5f57d7132"
      },
      "execution_count": 5,
      "outputs": [
        {
          "output_type": "stream",
          "name": "stdout",
          "text": [
            "Enter a number: 8\n",
            "       1\n",
            "      22\n",
            "     333\n",
            "    4444\n",
            "   55555\n",
            "  666666\n",
            " 7777777\n",
            "88888888\n"
          ]
        }
      ]
    },
    {
      "cell_type": "code",
      "metadata": {
        "id": "FNRuo44RGQsC",
        "colab": {
          "base_uri": "https://localhost:8080/"
        },
        "outputId": "a2cba671-1258-4c0b-8e96-82b36c141122"
      },
      "source": [
        "digit_to_english = {\n",
        "    '0': 'Zero',\n",
        "    '1': 'One',\n",
        "    '2': 'Two',\n",
        "    '3': 'Three',\n",
        "    '4': 'Four',\n",
        "    '5': 'Five',\n",
        "    '6': 'Six',\n",
        "    '7': 'Seven',\n",
        "    '8': 'Eight',\n",
        "    '9': 'Nine'\n",
        "}\n",
        "digits = input(\"Enter a string of digits: \")\n",
        "english_equivalent = \"\"\n",
        "index = 0\n",
        "while index < len(digits):\n",
        "    digit = digits[index]\n",
        "    if digit in digit_to_english:\n",
        "        english_equivalent += digit_to_english[digit]\n",
        "        if index < len(digits) - 1:\n",
        "            english_equivalent += '-'\n",
        "    index += 1\n",
        "print(\"English Equivalent:\", english_equivalent)"
      ],
      "execution_count": 6,
      "outputs": [
        {
          "output_type": "stream",
          "name": "stdout",
          "text": [
            "Enter a string of digits: 87931\n",
            "English Equivalent: Eight-Seven-Nine-Three-One\n"
          ]
        }
      ]
    }
  ]
}