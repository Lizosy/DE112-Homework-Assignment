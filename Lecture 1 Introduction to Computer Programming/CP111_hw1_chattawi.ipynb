{
  "nbformat": 4,
  "nbformat_minor": 0,
  "metadata": {
    "colab": {
      "provenance": []
    },
    "kernelspec": {
      "name": "python3",
      "display_name": "Python 3"
    },
    "language_info": {
      "name": "python"
    }
  },
  "cells": [
    {
      "cell_type": "code",
      "source": [
        "#1\n",
        "name = 'chatawee'\n",
        "country = 'Thailand'\n",
        "print(\"Hello\",name,\"from\",country)"
      ],
      "metadata": {
        "id": "xvGsBu-QYZ18",
        "colab": {
          "base_uri": "https://localhost:8080/"
        },
        "outputId": "3c85ea33-60b4-459e-8954-21ba0a0ddc73"
      },
      "execution_count": null,
      "outputs": [
        {
          "output_type": "stream",
          "name": "stdout",
          "text": [
            "Hello chatawee from Thailand\n"
          ]
        }
      ]
    },
    {
      "cell_type": "code",
      "execution_count": 2,
      "metadata": {
        "colab": {
          "base_uri": "https://localhost:8080/"
        },
        "id": "RovcIkswNhJN",
        "outputId": "ab81b357-6c49-4a35-88c5-019c6b097ffd"
      },
      "outputs": [
        {
          "output_type": "stream",
          "name": "stdout",
          "text": [
            "total age is 296\n",
            " average age is 29.6\n"
          ]
        }
      ],
      "source": [
        "#2\n",
        "age_1 = 15\n",
        "age_2 = 14\n",
        "age_3 = 14\n",
        "age_4 = 15\n",
        "age_5 = 24\n",
        "age_6 = 63\n",
        "age_7 = 40\n",
        "age_8 = 76\n",
        "age_9 = 17\n",
        "age_10 = 18\n",
        "\n",
        "list = [age_1,age_2,age_3,age_4,age_5,age_6,age_7,age_8,age_9,age_10]\n",
        "print(\"total age is\", sum(list))\n",
        "avg = sum(list) / len(list)\n",
        "print(\" average age is\",(avg))"
      ]
    },
    {
      "cell_type": "code",
      "source": [
        "#3\n",
        "side_a = 20\n",
        "side_b = 30\n",
        "the_length_of_the_hypotenuse = sqrt(side_a**2 + side_b**2)\n",
        "print(the_length_of_the_hypotenuse)"
      ],
      "metadata": {
        "colab": {
          "base_uri": "https://localhost:8080/"
        },
        "id": "mmYidkbC36-t",
        "outputId": "1af65894-577f-4918-ed2b-9f282682a972"
      },
      "execution_count": null,
      "outputs": [
        {
          "output_type": "stream",
          "name": "stdout",
          "text": [
            "36.05551275463989\n"
          ]
        }
      ]
    },
    {
      "cell_type": "code",
      "source": [
        "#4\n",
        "number_reg_polygon_sides = 5\n",
        "the_exterior_angles = (360/number_reg_polygon_sides)\n",
        "print(the_exterior_angles)"
      ],
      "metadata": {
        "colab": {
          "base_uri": "https://localhost:8080/"
        },
        "id": "rUjt6U17AYvp",
        "outputId": "6e04151d-3961-4dfd-aa06-7fd1168bb640"
      },
      "execution_count": 1,
      "outputs": [
        {
          "output_type": "stream",
          "name": "stdout",
          "text": [
            "72.0\n"
          ]
        }
      ]
    },
    {
      "cell_type": "code",
      "source": [
        "#5\n",
        "average_speed = 60 #km/h\n",
        "distance = 120 #km\n",
        "time = (distance/average_speed)\n",
        "print(\"time it should take them is\",time,\"hour\")"
      ],
      "metadata": {
        "colab": {
          "base_uri": "https://localhost:8080/"
        },
        "id": "jLI7wKpNGDu5",
        "outputId": "c58ab4e1-c9b7-4ee7-aa1d-47436cf8e0e0"
      },
      "execution_count": null,
      "outputs": [
        {
          "output_type": "stream",
          "name": "stdout",
          "text": [
            "time it should take them is 2.0 hour\n"
          ]
        }
      ]
    },
    {
      "cell_type": "code",
      "source": [
        "#6\n",
        "r = 6\n",
        "h = 7\n",
        "pi= 22/7\n",
        "volume = pi * r * r * h\n",
        "print(\"volume of a cylinder\",volume)"
      ],
      "metadata": {
        "colab": {
          "base_uri": "https://localhost:8080/"
        },
        "id": "I82QmrQf6bFr",
        "outputId": "44e13fe6-a263-4aa9-c793-97b48f655877"
      },
      "execution_count": null,
      "outputs": [
        {
          "output_type": "stream",
          "name": "stdout",
          "text": [
            "volume of a cylinder 792.0\n"
          ]
        }
      ]
    }
  ]
}