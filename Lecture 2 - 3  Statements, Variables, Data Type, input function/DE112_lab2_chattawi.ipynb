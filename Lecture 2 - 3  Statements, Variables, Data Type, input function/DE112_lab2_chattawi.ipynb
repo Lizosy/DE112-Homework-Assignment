{
  "nbformat": 4,
  "nbformat_minor": 0,
  "metadata": {
    "colab": {
      "provenance": [],
      "toc_visible": true
    },
    "kernelspec": {
      "name": "python3",
      "display_name": "Python 3"
    },
    "language_info": {
      "name": "python"
    }
  },
  "cells": [
    {
      "cell_type": "markdown",
      "metadata": {
        "id": "WulpMZvqNEzA"
      },
      "source": [
        "# Lab 2 Statments, variables, datatypes, and operators\n",
        "\n",
        "Objectives:\n",
        "\n",
        "1. Learn how to name, declare and assign value to a variable.\n",
        "2. Learn how to use operators of different datatypes."
      ]
    },
    {
      "cell_type": "markdown",
      "source": [
        "# Statments\n",
        "A program unit composes of number of statements\n",
        "Ex:"
      ],
      "metadata": {
        "id": "vxaa3pASey7O"
      }
    },
    {
      "cell_type": "code",
      "source": [
        "b = 20\n",
        "a = 20 + b\n",
        "c = sum([a,b])\n",
        "print(a, b, c)"
      ],
      "metadata": {
        "colab": {
          "base_uri": "https://localhost:8080/"
        },
        "id": "QklTLMzYeyjR",
        "outputId": "c5e2d988-5232-46b9-efb7-886131699190"
      },
      "execution_count": null,
      "outputs": [
        {
          "output_type": "stream",
          "name": "stdout",
          "text": [
            "40 20 60\n"
          ]
        }
      ]
    },
    {
      "cell_type": "markdown",
      "source": [
        "Statements is a logical instruction which Python interpreter can read and execute. In Python, it could be an\n",
        "Expression is a representation of value. It is a combination of\n",
        "* variables,\n",
        "* values,\n",
        "* operators, and\n",
        "* function call\n",
        "\n",
        "🡪 that yields a result value\n"
      ],
      "metadata": {
        "id": "C0huO2XPe6Tb"
      }
    },
    {
      "cell_type": "code",
      "source": [
        "max([a,b])"
      ],
      "metadata": {
        "id": "EAxo50hHfIz9"
      },
      "execution_count": null,
      "outputs": []
    },
    {
      "cell_type": "markdown",
      "source": [
        "Assignment statement composes of all three components\n",
        "* Variables \t\t\t🡪 on the left-side of =\n",
        "* Expression or values\t\t🡪 on the right-side of =\n",
        "* Assignment operator  '='\n",
        "\n",
        "Ex:"
      ],
      "metadata": {
        "id": "yVv_oCLufIAZ"
      }
    },
    {
      "cell_type": "code",
      "source": [
        "a = 10 + 5"
      ],
      "metadata": {
        "id": "Zu49VOfefJSV"
      },
      "execution_count": null,
      "outputs": []
    },
    {
      "cell_type": "markdown",
      "metadata": {
        "id": "4MKLWeDWTdjA"
      },
      "source": [
        "Usually, there is one python statement per line -- no need for semicolon in this case.\n",
        "      z = 20+31\n",
        "      b = z+ 52\n",
        "      print('z = ',z)    \n",
        "\n",
        "1. Multiple line statement: For a long statement, it can be put across multiple lines by:\n",
        "- put \\ at the end of *to be continued* statement\n",
        "- if the statement contains any type of parenthesese, the statement continues across lines until the closing parenthesis has been reached."
      ]
    },
    {
      "cell_type": "code",
      "metadata": {
        "id": "yvJohKEiwXKB"
      },
      "source": [
        "x = 1 + 2 \\\n",
        "+ 3 + 4 \\\n",
        "+ 5 + 6\n",
        "print(x)"
      ],
      "execution_count": null,
      "outputs": []
    },
    {
      "cell_type": "code",
      "metadata": {
        "id": "pVdX7EAObSeX"
      },
      "source": [
        "mylist = [\"apple\",\n",
        "          \"banana\", \"cherry\"]\n",
        "print(name_list1)"
      ],
      "execution_count": null,
      "outputs": []
    },
    {
      "cell_type": "code",
      "metadata": {
        "id": "TX4b2NDxbDR-"
      },
      "source": [
        "name_list1 = [\"Bobs\",\n",
        "              \"Jane\",\n",
        "              \"John\"]\n",
        "print(name_list1)"
      ],
      "execution_count": null,
      "outputs": []
    },
    {
      "cell_type": "markdown",
      "metadata": {
        "id": "Jo2JAWOi9Hq_"
      },
      "source": [
        "2. Multiple statements per line: Also, multiple statements can be put in a single line and they are seperated by semicolon ;.\n"
      ]
    },
    {
      "cell_type": "code",
      "metadata": {
        "id": "gdcJmTenibKF"
      },
      "source": [
        "age = 20; gender = 'Male'"
      ],
      "execution_count": null,
      "outputs": []
    },
    {
      "cell_type": "markdown",
      "source": [
        "# Question 1 (1.1-1.4)\n",
        "How many statements are there in the following code"
      ],
      "metadata": {
        "id": "m1hXjGw1gzCd"
      }
    },
    {
      "cell_type": "code",
      "source": [
        "# Assign values to num_1 through num_10\n",
        "num_1 = 1;num_2 = 2;num_3 = 3;num_4 = 4;num_5 = 5\n",
        "num_6 = 6;num_7 = 7;num_8 = 8;num_9 = 9;num_10 = 10\n",
        "\n",
        "# Calculate the average\n",
        "total_sum = num_1 + num_2 + num_3 + num_4 + num_5 + num_6 + num_7 + num_8 + num_9 + num_10\n",
        "average = total_sum / 10\n",
        "\n",
        "# Print the average\n",
        "print(f\"The average of the 10 numbers is: {average}\")"
      ],
      "metadata": {
        "id": "1ecH-jQzgyB7"
      },
      "execution_count": null,
      "outputs": []
    },
    {
      "cell_type": "markdown",
      "source": [
        "1.1)The number of statement in the above cell is 13"
      ],
      "metadata": {
        "id": "LeVsWlt5iE4Q"
      }
    },
    {
      "cell_type": "code",
      "source": [
        "# Assign values to num_1 through num_10\n",
        "num_1 = 1;num_2 = 2;num_3 = 3;\n",
        "num_4 = 4;num_5 = 5\n",
        "num_6 = 6;num_7 = 7;num_8 = 8;\n",
        "num_9 = 9;num_10 = 10\n",
        "\n",
        "# Calculate the average\n",
        "total_sum = num_1 + num_2 + num_3 + num_4 + num_5 + num_6 + num_7 + num_8 + num_9 + num_10\n",
        "average = total_sum / 10\n",
        "\n",
        "# Print the average\n",
        "print(f\"The average of the 10 numbers is: {average}\")"
      ],
      "metadata": {
        "id": "TIU30aEriSOU"
      },
      "execution_count": null,
      "outputs": []
    },
    {
      "cell_type": "markdown",
      "source": [
        "1.2)The number of statement in the above cell is 13"
      ],
      "metadata": {
        "id": "ppnlrqjbiVsK"
      }
    },
    {
      "cell_type": "code",
      "source": [
        "# Assign values to num_1 through num_10\n",
        "num_1 = 1;num_2 = 2;num_3 = 3;\n",
        "num_4 = 4;num_5 = 5\n",
        "\n",
        "# Calculate the average\n",
        "total_sum = num_1 + num_2 + num_3 \\\n",
        "            + num_4 + num_5\n",
        "\n",
        "average = total_sum / 5\n",
        "\n",
        "# Print the average\n",
        "print('''The average of the 10 numbers is:\n",
        " ''',  average)"
      ],
      "metadata": {
        "id": "JQRw0rgYi7co"
      },
      "execution_count": null,
      "outputs": []
    },
    {
      "cell_type": "markdown",
      "source": [
        "1.3)The number of statement in the above cell is 8"
      ],
      "metadata": {
        "id": "jZz_LNQlj6zO"
      }
    },
    {
      "cell_type": "code",
      "source": [
        "# Assign values to num_1 through num_10\n",
        "num_1 = 1;num_2 = 2;num_3 = 3;\n",
        "num_4 = 4;num_5 = 5\n",
        "num_6 = 6;num_7 = 7;num_8 = 8;\n",
        "num_9 = 9;num_10 = 10\n",
        "\n",
        "# Calculate the average\n",
        "total_sum = num_1 + num_2 + num_3 + num_4 + num_5 \\\n",
        "            +num_6 + num_7 + num_8 + num_9 + num_10\n",
        "average = total_sum / 10\n",
        "\n",
        "# Print the average\n",
        "print(f\"The average of the 10 numbers is: {average}\")"
      ],
      "metadata": {
        "id": "5Zqjt572jdRc"
      },
      "execution_count": null,
      "outputs": []
    },
    {
      "cell_type": "markdown",
      "source": [
        "1.4)The number of statement in the above cell is 13"
      ],
      "metadata": {
        "id": "16hTm9vsj9__"
      }
    },
    {
      "cell_type": "markdown",
      "metadata": {
        "id": "9jCAOWEAujB5"
      },
      "source": [
        "# Variables\n",
        "variables are used to store data"
      ]
    },
    {
      "cell_type": "code",
      "metadata": {
        "id": "jAB_kZncL2tO"
      },
      "source": [
        "\n",
        "import numpy as np\n",
        "import keyword\n",
        "np.reshape(keyword.kwlist, (5, 7))"
      ],
      "execution_count": null,
      "outputs": []
    },
    {
      "cell_type": "code",
      "metadata": {
        "id": "QZwaJvmLOtAy"
      },
      "source": [
        "variable_1 = 20"
      ],
      "execution_count": null,
      "outputs": []
    },
    {
      "cell_type": "code",
      "metadata": {
        "id": "pgSSLEtDJv40"
      },
      "source": [
        "test-1 = 20"
      ],
      "execution_count": null,
      "outputs": []
    },
    {
      "cell_type": "code",
      "metadata": {
        "id": "0shFkioYOz53"
      },
      "source": [
        "1_variable = 10"
      ],
      "execution_count": null,
      "outputs": []
    },
    {
      "cell_type": "markdown",
      "metadata": {
        "id": "mrlFi4qGPQba"
      },
      "source": [
        "**Exercise #:** Which one of the following is invalid for variable name?\n",
        "\n",
        "var_1, _var1, 1_var, 111, for, var#1\n",
        "\n",
        "the answer is : (111, for, var#1)\n",
        "\n"
      ]
    },
    {
      "cell_type": "markdown",
      "metadata": {
        "id": "ivUz93IAIUg6"
      },
      "source": [
        "**Variable assignment**\n",
        "Python variables do not need explicit declaration to reserve memory space. A data value is assigned to the targeted variable using its name via equal sign (=) as  an assignment operator. To a the value to a variable, the name of variable name is on the left and the assigned value is on the right\n",
        "\n",
        "1. Assign a value to the variable\n",
        "        a = 20\n",
        "        print(a)\n",
        "        print(type(a))\n",
        "2. Assign the same value to multiple variables\n",
        "        a = b = 20\n",
        "        print(a)\n",
        "        print(b)\n",
        "3. Assign multiple value to multiple variables\n",
        "        a, b = 20, 30\n",
        "        print(a)\n",
        "        print(b)\n"
      ]
    },
    {
      "cell_type": "code",
      "metadata": {
        "colab": {
          "base_uri": "https://localhost:8080/"
        },
        "id": "qrhd4x-yX_sI",
        "outputId": "44e4e630-c978-4ebf-b404-3b8532f18f00"
      },
      "source": [
        "a = 20\n",
        "print(type(a))\n",
        "a = 'test'\n",
        "print(type(a))"
      ],
      "execution_count": null,
      "outputs": [
        {
          "output_type": "stream",
          "text": [
            "<class 'int'>\n",
            "<class 'str'>\n"
          ],
          "name": "stdout"
        }
      ]
    },
    {
      "cell_type": "markdown",
      "source": [
        "# Question 2\n",
        "\n",
        "1. Assign value 50.1 to variable name ‘weight’\n",
        "2. Determine the type of variable ‘weight’ 🡪 print to screen\n",
        "3. Determine the value of variable ‘weight’ 🡪 print to screen\n",
        "\n",
        "\n",
        "\n"
      ],
      "metadata": {
        "id": "SueRf6VDpAhx"
      }
    },
    {
      "cell_type": "code",
      "source": [
        "#1. Assign value 50.1 to variable name ‘weight’\n",
        "weight = 50.1\n",
        "\n",
        "#2. Determine the type of variable ‘weight’ 🡪 print to screen\n",
        "print(type(weight))\n",
        "\n",
        "#3. Determine the value of variable ‘weight’ 🡪 print to screen\n",
        "print(weight)"
      ],
      "metadata": {
        "id": "vRt3WRP8o64-"
      },
      "execution_count": null,
      "outputs": []
    },
    {
      "cell_type": "markdown",
      "source": [
        "# Question 3\n",
        "1. Assign value 49.6 and 150 to variable name ‘weight’ and ‘height’\n",
        "within a single statement  \n",
        "2. Determine the type of both variables  🡪 print to screen\n",
        "3. Determine the value of both variables 🡪 print to screen\n",
        "\n"
      ],
      "metadata": {
        "id": "yGCfmruxpcwr"
      }
    },
    {
      "cell_type": "code",
      "source": [
        "#1\n",
        "weight = 49.6\n",
        "height = 150\n",
        "#2\n",
        "print(type(weight))\n",
        "print(type(height))\n",
        "#3\n",
        "print(weight)\n",
        "print(height)\n"
      ],
      "metadata": {
        "id": "Ys-efi1tpoaX",
        "colab": {
          "base_uri": "https://localhost:8080/"
        },
        "outputId": "e6b29646-e468-4335-e491-f28743c30705"
      },
      "execution_count": 9,
      "outputs": [
        {
          "output_type": "stream",
          "name": "stdout",
          "text": [
            "<class 'float'>\n",
            "<class 'int'>\n",
            "49.6\n",
            "150\n"
          ]
        }
      ]
    },
    {
      "cell_type": "markdown",
      "metadata": {
        "id": "t08kZJWVNkJc"
      },
      "source": [
        "**Variable naming rules**\n",
        "1. Can only contain alpha-numeric characters and underscores\n",
        "A-z, 0-9, and _\n",
        "2. Must start with a letter or the underscore character.\n",
        "3. Must not start with a number.\n",
        "4. Are case-sensitive (age, Age and AGE are three different variables)\n",
        "5. Not conflict with any Python keywords"
      ]
    },
    {
      "cell_type": "markdown",
      "source": [
        "# Question 4 (4.1-4.9):\n",
        "Which one is invalid variable name in Python and why?\n",
        "1. myVar1 = 'John'\n",
        "2. myVar-1 =  'John'\n",
        "3. 1_myVar =  'John'\n",
        "4. _myVar1 =  'John'\n",
        "5. myVar_1 =  'John'\n",
        "6. 1myvar =  'John'\n",
        "7. myVar#1 =  'John'\n",
        "8. MyVar1 =  'John'\n",
        "9. for =  'John'\n",
        "\n",
        "\n",
        "\n",
        "\n",
        "\n"
      ],
      "metadata": {
        "id": "iA2UeYnlqANw"
      }
    },
    {
      "cell_type": "code",
      "source": [
        "myVar1 = 'John'"
      ],
      "metadata": {
        "id": "EKbFnMuqqUJ-"
      },
      "execution_count": null,
      "outputs": []
    },
    {
      "cell_type": "markdown",
      "source": [
        "The answer is\n",
        "\n",
        "1. myVar1 = 'John' ==> valid name\n",
        "---\n",
        "2. myVar-1 =  'John' ==> invalid name because Variable name can only contain alpha-numeric characters and underscores\n",
        "---\n",
        "3. 1_myVar =  'John' ==> invalid name because Variable name Must start with a letter or the underscore character,\n",
        "Must not start with a number.\n",
        "---\n",
        "4. _myVar1 =  'John'==> valid name\n",
        "---\n",
        "5. myVar_1 =  'John'==> valid name\n",
        "---\n",
        "6. 1myvar =  'John'==> invalid name becaue Variable name Must start with a letter or the underscore character,Must not start with a number.\n",
        "---\n",
        "7. myVar#1 =  'John'==> invalid name because Variable name Not conflict with any Python keywords.\n",
        "---\n",
        "8. MyVar1 =  'John'==> valid name\n",
        "---\n",
        "9. for =  'John'==> invalid name because Variable name Not conflict with any Python keywords."
      ],
      "metadata": {
        "id": "VKr3o9Kvqp9D"
      }
    },
    {
      "cell_type": "code",
      "source": [
        "myVar1 = 'John' ==> valid name\n",
        "myVar-1 = 'John'\n",
        "1_myVar = 'John'\n",
        "_myVar1 = 'John'\n",
        "myVar_1 = 'John'\n",
        "1myvar = 'John'\n",
        "myVar#1 = 'John'\n",
        "MyVar1 = 'John'\n",
        "for = 'John'"
      ],
      "metadata": {
        "id": "K8xuShC6Tdf0"
      },
      "execution_count": null,
      "outputs": []
    },
    {
      "cell_type": "code",
      "source": [
        "_myVar1 = 'John'\n",
        "print(_myVar1)"
      ],
      "metadata": {
        "colab": {
          "base_uri": "https://localhost:8080/"
        },
        "id": "QgOW1VpGTSW8",
        "outputId": "921c4041-4cb5-4996-e0fc-da9be3fbf0a2"
      },
      "execution_count": 143,
      "outputs": [
        {
          "output_type": "stream",
          "name": "stdout",
          "text": [
            "John\n"
          ]
        }
      ]
    },
    {
      "cell_type": "code",
      "source": [
        "import numpy as np\n",
        "import keyword\n",
        "print(np.reshape(keyword.kwlist,[5,7]))"
      ],
      "metadata": {
        "colab": {
          "base_uri": "https://localhost:8080/"
        },
        "id": "WCUDCGSZqn9y",
        "outputId": "d47cae95-4294-46de-f9ec-821f0c81e079"
      },
      "execution_count": null,
      "outputs": [
        {
          "output_type": "stream",
          "name": "stdout",
          "text": [
            "[['False' 'None' 'True' 'and' 'as' 'assert' 'async']\n",
            " ['await' 'break' 'class' 'continue' 'def' 'del' 'elif']\n",
            " ['else' 'except' 'finally' 'for' 'from' 'global' 'if']\n",
            " ['import' 'in' 'is' 'lambda' 'nonlocal' 'not' 'or']\n",
            " ['pass' 'raise' 'return' 'try' 'while' 'with' 'yield']]\n"
          ]
        }
      ]
    },
    {
      "cell_type": "markdown",
      "source": [
        "# Datatypes\n",
        "In python 3, there are 5 groups of standard datatypes available\n",
        "1. **Boolean**: the value contains either True or False\n",
        "        isMember = True\n",
        "2. **Numeric**: the real number either whole number(int datatype) or floating point (float datatype),  or complex number (complex datatype)\n",
        "        age = 20\n",
        "        print(type(age))\n",
        "        weight = 55.20\n",
        "        print(type(weight))\n",
        "        coefficient = 1+2j\n",
        "        print(type(coefficient))"
      ],
      "metadata": {
        "id": "C5HRXbrp9HR5"
      }
    },
    {
      "cell_type": "code",
      "source": [
        " age = 20\n",
        " print(type(age))\n",
        " weight = 55.20\n",
        " print(type(weight))\n",
        " coefficient = 1+2j\n",
        " print(type(coefficient))"
      ],
      "metadata": {
        "colab": {
          "base_uri": "https://localhost:8080/"
        },
        "id": "pzChnnaP-TVv",
        "outputId": "1f66037b-2edb-4ba2-9a73-fb98d612021f"
      },
      "execution_count": null,
      "outputs": [
        {
          "output_type": "stream",
          "name": "stdout",
          "text": [
            "<class 'int'>\n",
            "<class 'float'>\n",
            "<class 'complex'>\n"
          ]
        }
      ]
    },
    {
      "cell_type": "markdown",
      "source": [
        "# Question 4\n",
        "Determine the type of these variables\n"
      ],
      "metadata": {
        "id": "--DlWZh18sQq"
      }
    },
    {
      "cell_type": "code",
      "source": [
        "a = -10\n",
        "b = 15.6\n",
        "c = 10.00\n",
        "d = -0\n",
        "e = 0.0\n",
        "f = 5j\n",
        "g = 10 + 0j\n"
      ],
      "metadata": {
        "id": "cgSxhO97AVkr"
      },
      "execution_count": null,
      "outputs": []
    },
    {
      "cell_type": "code",
      "source": [
        "print('type(a): ', type(a))\n",
        "print('type(b): ', type(b))\n",
        "print('type(c): ', type(c))\n",
        "print('type(d): ', type(d))\n",
        "print('type(e): ', type(e))\n",
        "print('type(f): ', type(f))\n",
        "print('type(g): ', type(g))"
      ],
      "metadata": {
        "colab": {
          "base_uri": "https://localhost:8080/"
        },
        "id": "9rQYje19A3oM",
        "outputId": "b9855284-d161-4d12-f240-f38ecd302c26"
      },
      "execution_count": 11,
      "outputs": [
        {
          "output_type": "stream",
          "name": "stdout",
          "text": [
            "type(a):  <class 'int'>\n",
            "type(b):  <class 'float'>\n",
            "type(c):  <class 'float'>\n",
            "type(d):  <class 'int'>\n",
            "type(e):  <class 'float'>\n",
            "type(f):  <class 'complex'>\n",
            "type(g):  <class 'complex'>\n"
          ]
        }
      ]
    },
    {
      "cell_type": "markdown",
      "metadata": {
        "id": "JJiIjXPOQHNM"
      },
      "source": [
        "# User input#\n"
      ]
    },
    {
      "cell_type": "markdown",
      "metadata": {
        "id": "OoTYFJHHwHGr"
      },
      "source": [
        "Input method can be used to retrieve input from users and store in assigned (string) variable.\n",
        "1. One input per statement\n",
        "\t  \n",
        "    #syntax: <variable> = input(‘Prompt statement: ’)  \n",
        "        fruit_name = input(‘Please enter your favorite fruit’)\n",
        "\n",
        "2. Multiple input per statement\n",
        "\n"
      ]
    },
    {
      "cell_type": "code",
      "metadata": {
        "colab": {
          "base_uri": "https://localhost:8080/"
        },
        "id": "kpST0Mcmun64",
        "outputId": "c37eeca0-5474-4310-d8c9-d1cd8be97a59"
      },
      "source": [
        "#One input per statement\n",
        "fruit_name = input('Please enter your favorite fruit: ')\n",
        "print('user input is: ',fruit_name)"
      ],
      "execution_count": null,
      "outputs": [
        {
          "output_type": "stream",
          "text": [
            "Please enter your favorite fruit: apple\n",
            "user input is:  apple\n"
          ],
          "name": "stdout"
        }
      ]
    },
    {
      "cell_type": "code",
      "source": [
        "age = input('Please enter your age :')\n",
        "type(age)"
      ],
      "metadata": {
        "colab": {
          "base_uri": "https://localhost:8080/"
        },
        "id": "ArDihcd7YLhR",
        "outputId": "7bcab371-18d7-4403-fb20-be3594b320e1"
      },
      "execution_count": null,
      "outputs": [
        {
          "name": "stdout",
          "output_type": "stream",
          "text": [
            "Please enter your age :99\n"
          ]
        },
        {
          "output_type": "execute_result",
          "data": {
            "text/plain": [
              "str"
            ]
          },
          "metadata": {},
          "execution_count": 3
        }
      ]
    },
    {
      "cell_type": "code",
      "metadata": {
        "colab": {
          "base_uri": "https://localhost:8080/"
        },
        "id": "yV5qKhSmvSX4",
        "outputId": "fe70780c-df0f-4593-ab10-5a94b9510c14"
      },
      "source": [
        "#Multiple input per statement\n",
        "fruit1, fruit2 = input('Please enter your two favorite fruits:' ).split()\n",
        "print('the first input is: ' ,fruit1)\n",
        "print('the second input is: ' ,fruit2)"
      ],
      "execution_count": 17,
      "outputs": [
        {
          "output_type": "stream",
          "name": "stdout",
          "text": [
            "Please enter your two favorite fruits:asdsa asdsad\n",
            "the first input is:  asdsa\n",
            "the second input is:  asdsad\n"
          ]
        }
      ]
    },
    {
      "cell_type": "code",
      "source": [
        "num1, num2 = input('Please enter your two favorite numbers:' ).split()\n",
        "print('the first input is: ' ,num1, type(num1))\n",
        "print('the second input is: ' ,num2, type(num2))"
      ],
      "metadata": {
        "colab": {
          "base_uri": "https://localhost:8080/"
        },
        "id": "oq593ixhYoR6",
        "outputId": "30745f67-5356-46f1-cb42-e3a380abbaf4"
      },
      "execution_count": null,
      "outputs": [
        {
          "output_type": "stream",
          "name": "stdout",
          "text": [
            "Please enter your two favorite numbers:15 47\n",
            "the first input is:  15 <class 'str'>\n",
            "the second input is:  47 <class 'str'>\n"
          ]
        }
      ]
    },
    {
      "cell_type": "code",
      "source": [
        "num1, num2 = input('Please enter your two favorite numbers:' ).split(',')\n",
        "print('the first input is: ' ,num1, type(num1))\n",
        "print('the second input is: ' ,num2, type(num2))"
      ],
      "metadata": {
        "id": "4Reh4df78Ia5"
      },
      "execution_count": null,
      "outputs": []
    },
    {
      "cell_type": "markdown",
      "source": [
        "#Question 5\n",
        "\n",
        "Write a code to accept width and height of a rectangle and compute\n",
        "1. Perimeter\n",
        "2. Area\n",
        "\n",
        "**Examples:**\n",
        "```\n",
        "Width and Height of this rectangle: 12.5, 15.5\n",
        "Perimeter of this rectangle: 56\n",
        "Area of this rectangle: 193.75\n",
        "```\n"
      ],
      "metadata": {
        "id": "QzzTqyZ9VjMo"
      }
    },
    {
      "cell_type": "code",
      "source": [
        "#Write a code to accept width and height of a rectangle and compute\n",
        "#Perimeter\n",
        "#Area\n",
        "\n",
        "width,height = input(\"Width and Height of this rectangle:\").split(',')\n",
        "width = float(width)\n",
        "height = float(height)\n",
        "\n",
        "Perimeter_of_this_rectangle = 2*(float(width)+float(height))\n",
        "print('Perimeter of this rectangle is:',Perimeter_of_this_rectangle)\n",
        "\n",
        "Area_of_this_rectangle = (float(width)*float(height))\n",
        "print('Area of this rectangle is:',Area_of_this_rectangle)"
      ],
      "metadata": {
        "id": "JovdwG3fuquV"
      },
      "execution_count": null,
      "outputs": []
    },
    {
      "cell_type": "code",
      "source": [
        "width = float(width)\n",
        "print(width, type(width))"
      ],
      "metadata": {
        "colab": {
          "base_uri": "https://localhost:8080/"
        },
        "id": "N_kihBXCu_gu",
        "outputId": "be45c824-3504-4955-d7f9-05ac1d025d3e"
      },
      "execution_count": null,
      "outputs": [
        {
          "output_type": "stream",
          "name": "stdout",
          "text": [
            "12.5 <class 'float'>\n"
          ]
        }
      ]
    },
    {
      "cell_type": "markdown",
      "source": [
        "#Question 6\n",
        "\n",
        "Write a code to accept three number and output\n",
        "* whether the first number is the greatest\n",
        "* whether the first number is the least\n",
        "* whether the first number is the medium\n",
        "\n",
        "\n",
        "**Examples:**\n",
        "```\n",
        "Enter three number: 10 , 55, 54\n",
        "The first number is the greatest: False\n",
        "The first number is the least: True\n",
        "The first number is the medium: False\n",
        "```\n",
        "\n",
        "```\n",
        "Enter three number: 60 , 55, 54\n",
        "The first number is the greatest: True\n",
        "The first number is the least: False\n",
        "The first number is the medium: False\n",
        "```\n",
        "\n",
        "```\n",
        "Enter three number: 60 , 55, 84\n",
        "The first number is the greatest: False\n",
        "The first number is the least: False\n",
        "The first number is the medium: True\n",
        "```"
      ],
      "metadata": {
        "id": "nxl_pvsaOYkd"
      }
    },
    {
      "cell_type": "code",
      "source": [
        "from ast import Return\n",
        "n1,n2,n3 = input(\"Enter three number:\").split(',')\n",
        "n1 = int(n1)\n",
        "n2 = int(n2)\n",
        "n3 = int(n3)\n",
        "\n",
        "#whether the first number is the greatest\n",
        "if  (n1 > n2) and (n1 > n3):\n",
        "    greatest = True\n",
        "else:\n",
        "  greatest = False\n",
        "print(\"The first number is the greatest\",(bool(greatest))),\n",
        "\n",
        "#whether the first number is the least\n",
        "if  (n1 < n2) and (n1 < n3):\n",
        "    least = True\n",
        "else:\n",
        "  least = False\n",
        "print(\"The first number is the least\",(bool(least)))\n",
        "\n",
        "#The first number is the medium\n",
        "if  (n1 < n2) and (n1 < n3):\n",
        "   medium = False\n",
        "if (n1 < n2) and (n1 < n3):\n",
        "    medium = False\n",
        "else:\n",
        "  medium = True\n",
        "print(\"The first number is the medium\",(bool(medium)))\n"
      ],
      "metadata": {
        "id": "TTB2nfRhPwK8",
        "colab": {
          "base_uri": "https://localhost:8080/"
        },
        "outputId": "a3d8ab79-f343-4c71-96c5-10a6b0cce41e"
      },
      "execution_count": 144,
      "outputs": [
        {
          "output_type": "stream",
          "name": "stdout",
          "text": [
            "Enter three number:20,23,24\n",
            "The first number is the greatest False\n",
            "The first number is the least True\n",
            "The first number is the medium False\n"
          ]
        }
      ]
    },
    {
      "cell_type": "code",
      "source": [
        "print(n1,n2,n3)\n",
        "\n",
        "is_n1_greatest = int(n1)>int(n2) and int(n1)>int(n3)\n",
        "\n",
        "print(is_n1_greatest)"
      ],
      "metadata": {
        "colab": {
          "base_uri": "https://localhost:8080/"
        },
        "id": "1DP7g3rg0MqR",
        "outputId": "2eb8f1f8-1b2d-4d24-8e2b-84f837a61799"
      },
      "execution_count": null,
      "outputs": [
        {
          "output_type": "stream",
          "name": "stdout",
          "text": [
            "60 55 84\n",
            "False\n"
          ]
        }
      ]
    },
    {
      "cell_type": "markdown",
      "metadata": {
        "id": "ZS_Y14k11lwo"
      },
      "source": [
        "# Question 7  \n",
        "Write code to convert between Celsius, Kelvin, and Fahrenheit\n",
        "- take Celsius as an input and compute Fahrenheit and kelvin as output\n",
        "\n",
        "- take kelvin as an input and compute Fahrenheit and Celsius as output\n",
        "\n",
        "- take Fahrenheit as an input and compute kelvin and Celsius as output\n",
        "\n",
        "  https://en.wikipedia.org/wiki/Fahrenheit\n"
      ]
    },
    {
      "cell_type": "code",
      "metadata": {
        "colab": {
          "base_uri": "https://localhost:8080/"
        },
        "id": "H82esS5h4IJ0",
        "outputId": "fc08b6ef-6218-4c66-b174-d07eea42603e"
      },
      "source": [
        "#take Celsius as an input and compute Fahrenheit and kelvin as output\n",
        "celsius = input(\"Celsius = \")\n",
        "celsius_int = int(celsius)\n",
        "#fahrenheit =\n",
        "kelvin = 273+celsius_int\n",
        "#print(celsius, 'C = ' , fahrenheit, ' F')\n",
        "print(celsius, 'C = ' , kelvin, ' K')\n"
      ],
      "execution_count": null,
      "outputs": [
        {
          "output_type": "stream",
          "name": "stdout",
          "text": [
            "Celsius = 50\n",
            "50 C =  323  K\n"
          ]
        }
      ]
    },
    {
      "cell_type": "code",
      "metadata": {
        "id": "xYfd5iIai_Di",
        "colab": {
          "base_uri": "https://localhost:8080/"
        },
        "outputId": "3fbe4eae-4530-4db5-f529-dee16e10b0e1"
      },
      "source": [
        "#take kelvin as an input and compute Fahrenheit and Celsius as output\n",
        "kelvin = input(\"kelvin = \")\n",
        "kelvin_int = int(kelvin)\n",
        "#fahrenheit =\n",
        "fahrenheit = kelvin_int*9/5 - 459.67\n",
        "#Celsius\n",
        "Celsius = kelvin_int - 273.15\n",
        "print(fahrenheit, 'F = ' , kelvin, ' K')"
      ],
      "execution_count": null,
      "outputs": [
        {
          "output_type": "stream",
          "name": "stdout",
          "text": [
            "kelvin = 50\n",
            "-369.67 F =  50  K\n"
          ]
        }
      ]
    },
    {
      "cell_type": "markdown",
      "source": [],
      "metadata": {
        "id": "gzPGBIDn0FfN"
      }
    },
    {
      "cell_type": "code",
      "metadata": {
        "id": "cj7MSECHjAno",
        "colab": {
          "base_uri": "https://localhost:8080/"
        },
        "outputId": "de1769c4-6ed1-4e27-81a1-721bb650e7f3"
      },
      "source": [
        "#take Fahrenheit as an input and compute kelvin and Celsius as output\n",
        "Fahrenheit = input(\"Fahrenheit = \")\n",
        "Fahrenheit_int = int(Fahrenheit)\n",
        "#Kelvin\n",
        "kelvin = (Fahrenheit_int + 459.67)*5/9\n",
        "#Celsius\n",
        "Celsius = (Fahrenheit_int-32)*5/9\n",
        "print(kelvin , 'k = ' , Celsius, ' C')\n"
      ],
      "execution_count": null,
      "outputs": [
        {
          "output_type": "stream",
          "name": "stdout",
          "text": [
            "Fahrenheit = 40\n",
            "277.59444444444443 k =  4.444444444444445  C\n"
          ]
        }
      ]
    }
  ]
}