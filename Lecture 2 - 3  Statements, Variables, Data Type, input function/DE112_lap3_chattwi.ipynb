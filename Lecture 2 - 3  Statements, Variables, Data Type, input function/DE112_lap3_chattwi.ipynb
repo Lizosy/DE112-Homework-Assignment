{
  "nbformat": 4,
  "nbformat_minor": 0,
  "metadata": {
    "colab": {
      "provenance": [],
      "toc_visible": true
    },
    "kernelspec": {
      "name": "python3",
      "display_name": "Python 3"
    },
    "language_info": {
      "name": "python"
    }
  },
  "cells": [
    {
      "cell_type": "markdown",
      "metadata": {
        "id": "WulpMZvqNEzA"
      },
      "source": [
        "# Lab 3 Collection datatypes\n",
        "\n",
        "Objectives:\n",
        "\n",
        "1. Learn how to declare and assign value to list, tuple, set, dict variables.\n",
        "2. Learn how to retrieve data from list, tuple, set, dict variables"
      ]
    },
    {
      "cell_type": "markdown",
      "metadata": {
        "id": "hOBSOzGGu2EI"
      },
      "source": [
        "# Datatypes\n",
        "In python 3, there are 5 groups of standard datatypes available\n",
        "1. **Boolean**: the value contains either True or False\n",
        "        isMember = True\n",
        "2. **Numeric**: the real number either whole number(int datatype) or floating point (float datatype),  or complex number (complex datatype)\n",
        "        age = 20\n",
        "        print(type(age)\n",
        "        weight = 55.20\n",
        "        print(type(weight)\n",
        "        coefficient = 1+2j\n",
        "        print(type(coefficient)\n",
        "3. **Sequences**: the collection of objects stored in sequencial order.\n",
        "        age_list = [15,14,14]\n",
        "        print(age_list)\n"
      ]
    },
    {
      "cell_type": "markdown",
      "metadata": {
        "id": "dd_U1fb-jTxj"
      },
      "source": [
        "\n",
        "\n",
        "*   String is a sequence of characters. This datatype often use to handle text formated data. Single quote or double quote can be used to create a string within one-line, and tripple quote is used to create a string across multiple line.\n",
        "\n",
        "        str_name = \"John\"\n",
        "        str_surname = 'Doh'\n",
        "        str_description = '''Single quote or double quote can be used to create a string within one-line,\n",
        "        and tripple quote is used to create a string across multiple line.'''\n",
        "\n",
        "\n",
        "\n",
        "  "
      ]
    },
    {
      "cell_type": "code",
      "metadata": {
        "colab": {
          "base_uri": "https://localhost:8080/"
        },
        "outputId": "dd399b60-0e4b-4fe6-e974-1d127c27d278",
        "id": "Df_lqyZ0jTxk"
      },
      "source": [
        "str_name = \"John\"\n",
        "str_surname = 'Doh'\n",
        "str_description = '''Single quote or double quote can be used to\n",
        "  create a string within one-line, and tripple quote is used to create\n",
        "  a string across multiple line.'''\n",
        "print(str_name)\n",
        "print(str_name[0])\n",
        "print(str_description)"
      ],
      "execution_count": null,
      "outputs": [
        {
          "output_type": "stream",
          "text": [
            "John\n",
            "J\n",
            "Single quote or double quote can be used to \n",
            "  create a string within one-line, and tripple quote is used to create \n",
            "  a string across multiple line.\n"
          ],
          "name": "stdout"
        }
      ]
    },
    {
      "cell_type": "markdown",
      "metadata": {
        "id": "RJxMLl191S_8"
      },
      "source": [
        "# Question 1 (1 pt)\n",
        "String construction\n",
        "\n",
        "Write code to perform the following string operators\n",
        "- take first name and last name from a user's name and\n",
        "- construct the username for that user by concatenating the first chracter of first name with the last name with '_' in between them\n",
        "\n",
        "\n",
        "```\n",
        "Enter your first name and last name: John Doe\n",
        "====================\n",
        "Your username is: J_Doe\n",
        "```\n",
        "\n",
        "```\n",
        "Enter your first name and last name: Siri iOS\n",
        "====================\n",
        "Your username is: S_iOS\n",
        "```\n",
        "\n"
      ]
    },
    {
      "cell_type": "code",
      "source": [
        "fname, lname = input( \"Enter your first name and last name:\").split()\n",
        "username = fname[0]+'_'+lname\n",
        "print(username)"
      ],
      "metadata": {
        "colab": {
          "base_uri": "https://localhost:8080/"
        },
        "id": "pDoSBRjLOCqc",
        "outputId": "307946d5-a065-46f3-b11e-6278f67655dc"
      },
      "execution_count": null,
      "outputs": [
        {
          "output_type": "stream",
          "name": "stdout",
          "text": [
            "Enter your first name and last name:sad asd\n",
            "s_asd\n"
          ]
        }
      ]
    },
    {
      "cell_type": "markdown",
      "source": [
        "*   List is a sequence of mutable objects. List operators are the following\n",
        "\n",
        "  - Creating list:\n",
        "\n",
        "          name_list = ['Bobs','Alice','john']\n",
        "\n",
        "  - Accessing the object in list:\n",
        "          name_list[0]\n",
        "\n",
        "   - Deleting the object in list:\n",
        "          del name_list[0]\n",
        "\n",
        "   - Updating the object in list\n",
        "          name_list[0] = 'New user'\n",
        "   - Adding an object to the list:\n",
        "\n",
        "          name_list.append(‘Napa’)\n",
        "    - Determine the number of objects in list: len()\n",
        "          len(name_list)\n",
        "\n",
        "*   Tuple is a sequence of immutable objects (allowing faster execution). Tuple operators are the following\n",
        "\n",
        "  - Creating list:\n",
        "\n",
        "          name_tuple = ('Bobs','Alice','john')\n",
        "\n",
        "  - Accessing the object in list:\n",
        "          name_tuple[0]\n",
        "  - Determine the number of objects in list: len()\n",
        "          len(name_tuple)"
      ],
      "metadata": {
        "id": "baqh1lDJLyNg"
      }
    },
    {
      "cell_type": "markdown",
      "source": [
        "#Question 2 (2 pt):\n",
        "List construction and modification\n",
        "\n",
        "From\n",
        "  namelist = [\"Michael\",\"Christopher\",\"Jessica\",\"Matthew']\n",
        "Write code to\n",
        "1. Add \"William\" to the end of namelist\n",
        "2. Update \"Michael\" to \"Daniel\"\n",
        "3. Print the length (number of names) of namelist\n",
        "4. Print the length each name in namelist\n"
      ],
      "metadata": {
        "id": "HyRL30vTII6u"
      }
    },
    {
      "cell_type": "code",
      "metadata": {
        "id": "CpspVAcWLyJz",
        "colab": {
          "base_uri": "https://localhost:8080/"
        },
        "outputId": "9799943b-e77a-42f8-de78-0a72c94db555"
      },
      "source": [
        "namelist = [\"Michael\",\"Christopher\",\"Jessica\",\"Matthew\"]\n",
        "namelist.append(\"William\")\n",
        "\n",
        "namelist[namelist.index(\"Michael\")] = \"Daniel\"\n",
        "print(namelist)\n",
        "\n",
        "print(\"length of name list is:\",len(namelist))\n",
        "\n",
        "print(\"length each name in namelist is:\",len(namelist[0]),len(namelist[1]),len(namelist[2]),len(namelist[3]),len(namelist[4]))"
      ],
      "execution_count": null,
      "outputs": [
        {
          "output_type": "stream",
          "name": "stdout",
          "text": [
            "['Daniel', 'Christopher', 'Jessica', 'Matthew', 'William']\n",
            "length of name list is: 5\n",
            "length each name in namelist is: 6 11 7 7 7\n"
          ]
        }
      ]
    },
    {
      "cell_type": "markdown",
      "source": [
        "#Question 3 (2 pt):\n",
        "Which of the following can not be performed if information is stored in tuple\n",
        "\n",
        "From\n",
        "  name_tuple = (\"Michael\",\"Christopher\",\"Jessica\",\"Matthew')\n",
        "Write code to\n",
        "1. Add \"William\" to the end of namelist\n",
        "2. Update \"Michael\" to \"Daniel\"\n",
        "3. Print the length (number of names) of namelist\n",
        "4. Print the length each name in namelist"
      ],
      "metadata": {
        "id": "XWG-kyv8MRTs"
      }
    },
    {
      "cell_type": "code",
      "source": [
        "name_tuple = (\"Michael\",\"Christopher\",\"Jessica\",\"Matthew\")\n",
        "lst = list(name_tuple)\n",
        "lst.append(\"william\")\n",
        "\n",
        "print(lst)\n",
        "print(\"lenght of name list is :\",len(lst))\n",
        "print(\"lenght of each name in list is :\",len(lst[0]),len(lst[1]),len(lst[2]),len(lst[3]),len(lst[4]))"
      ],
      "metadata": {
        "colab": {
          "base_uri": "https://localhost:8080/"
        },
        "id": "XQKZ11WBclEV",
        "outputId": "630ec498-7317-4665-e0bf-e8e76fd2048f"
      },
      "execution_count": null,
      "outputs": [
        {
          "output_type": "stream",
          "name": "stdout",
          "text": [
            "['Michael', 'Christopher', 'Jessica', 'Matthew', 'william']\n",
            "lenght of name list is : 5\n",
            "lenght of each name in list is : 7 11 7 7 7\n"
          ]
        }
      ]
    },
    {
      "cell_type": "code",
      "source": [
        "name = '0123456789'\n",
        "print(name[4:1:-1])\n",
        "\n",
        "print(name[2:7])\n",
        "\n",
        "print(name[1:8:2])\n",
        "\n",
        "print(name[8:1:-2])\n"
      ],
      "metadata": {
        "colab": {
          "base_uri": "https://localhost:8080/"
        },
        "id": "wxecyYcsiFDX",
        "outputId": "6b6a7de4-d570-4bc5-ffeb-0e9ac57304fc"
      },
      "execution_count": null,
      "outputs": [
        {
          "output_type": "stream",
          "name": "stdout",
          "text": [
            "432\n",
            "23456\n",
            "1357\n",
            "8642\n"
          ]
        }
      ]
    },
    {
      "cell_type": "markdown",
      "source": [
        "#Slicing index in sequence datatype objects\n",
        "A subsequence of list\\tuple\\string can be created using slicing operators\n",
        "\n",
        "🡪 A consecutive subsequence of list\\tuple\\string\n",
        "\tsyntax: <variable>[<start>: <stop>]\n",
        "\t \tstart: the index of the first object in a subsequence, default at 0  \n",
        "\t \tstop: the index of the first object not in a subsequence, default at len(<variable>))\n",
        "\n",
        "🡪 A subsequence of list\\tuple\\string with stride or step\n",
        "\tsyntax: <variable>[<start>: <stop>: <step>]\n",
        "\t\tstep: the interval between the index of the current object and the ne"
      ],
      "metadata": {
        "id": "DrZc96PHxU8-"
      }
    },
    {
      "cell_type": "code",
      "source": [
        "str_1 = '''Bitcoin is a decentralized digital currency that can be transferred\n",
        "on the peer-to-peer bitcoin network. Bitcoin transactions are verified by network\n",
        "nodes through cryptography and recorded in a public distributed ledger called a blockchain.'''\n",
        "print(str_1[0:5])\n",
        "print(str_1[0:10:2])"
      ],
      "metadata": {
        "colab": {
          "base_uri": "https://localhost:8080/"
        },
        "id": "sqePUmDjxrjF",
        "outputId": "0d691bac-2e68-4cf4-ee12-132e138e9824"
      },
      "execution_count": null,
      "outputs": [
        {
          "output_type": "stream",
          "name": "stdout",
          "text": [
            "Bitco\n",
            "Btoni\n"
          ]
        }
      ]
    },
    {
      "cell_type": "code",
      "source": [
        "print(str_1[0:5])"
      ],
      "metadata": {
        "colab": {
          "base_uri": "https://localhost:8080/"
        },
        "id": "9sc2B45sx502",
        "outputId": "52f02f05-ed3c-4438-8b2c-ebe8079c2790"
      },
      "execution_count": null,
      "outputs": [
        {
          "output_type": "stream",
          "name": "stdout",
          "text": [
            "Bitco\n"
          ]
        }
      ]
    },
    {
      "cell_type": "markdown",
      "source": [
        "#Question 4 (2 pt):\n",
        "Based on the following string, determine the slicing indices that return the given output\n",
        "\n",
        "\n",
        "\n",
        "```\n",
        "str_1 = '''Bitcoin is a decentralized digital currency that can be transferred\n",
        "on the peer-to-peer bitcoin network. Bitcoin transactions are verified by network nodes through cryptography and recorded in a public distributed ledger called a blockchain.'''\n",
        "```\n",
        "\n",
        "1. return 'bitcoin network'\n",
        "2. return 'Bitcoin is a decentralized digital currency that can be transferred\n",
        "on the peer-to-peer bitcoin network.'\n",
        "3. return 'iisdn'\n"
      ],
      "metadata": {
        "id": "gpGDJeJoxcvy"
      }
    },
    {
      "cell_type": "code",
      "source": [
        "str_1 = '''Bitcoin is a decentralized digital currency that can be transferred\n",
        "on the peer-to-peer bitcoin network. Bitcoin transactions are verified by network\n",
        "nodes through cryptography and recorded in a public distributed ledger called a blockchain.'''\n",
        "\n",
        "print(str_1[88:103])\n",
        "# return iisdn\n",
        "print(str_1[0:103])\n",
        "print(str_1[1:20:4])"
      ],
      "metadata": {
        "colab": {
          "base_uri": "https://localhost:8080/"
        },
        "id": "TxrknFL9xUmv",
        "outputId": "99c009ff-cce9-4c54-f2b9-59825ea07978"
      },
      "execution_count": null,
      "outputs": [
        {
          "output_type": "stream",
          "name": "stdout",
          "text": [
            "bitcoin network\n",
            "Bitcoin is a decentralized digital currency that can be transferred\n",
            "on the peer-to-peer bitcoin network\n",
            "iisdn\n"
          ]
        }
      ]
    },
    {
      "cell_type": "code",
      "source": [
        "print()"
      ],
      "metadata": {
        "id": "L11Ex482x3Ym"
      },
      "execution_count": null,
      "outputs": []
    },
    {
      "cell_type": "markdown",
      "source": [
        "4. **Set**:  the collection of objects stored in unorder manner where storing duplication of objects are not allowed\n",
        "        fruit_set = {'Apple','Banana','Coconut'}\n",
        "        print(fruit_set)\n",
        "5. **Dictionary**:  the collection of key-value pairs stored in unorder manner where storing duplication of objects are not allowed\n",
        "        students_dict = {'1001':'Bobs','1008':'Delan','1010':'Doe'}\n",
        "        print(students_dict)"
      ],
      "metadata": {
        "id": "pKmi-chejkCk"
      }
    },
    {
      "cell_type": "code",
      "metadata": {
        "colab": {
          "base_uri": "https://localhost:8080/"
        },
        "outputId": "7c9c7ced-81f3-4cb6-b0a5-cfc94bb4fd54",
        "id": "QxpE1Gc6jauz"
      },
      "source": [
        "thisdict = {\n",
        "  \"brand\": \"Ford\",\n",
        "  \"model\": \"Mustang\",\n",
        "  \"year\": 1964\n",
        "}\n",
        "thisdict['color'] = 'yellow'\n",
        "thisdict.update({'color': 'yellow1'})\n",
        "thisdict['color'] = 'red'\n",
        "\n",
        "print(thisdict)"
      ],
      "execution_count": null,
      "outputs": [
        {
          "output_type": "stream",
          "text": [
            "{'brand': 'Ford', 'model': 'Mustang', 'year': 1964, 'color': 'red'}\n"
          ],
          "name": "stdout"
        }
      ]
    },
    {
      "cell_type": "markdown",
      "metadata": {
        "id": "o1mD4Oo4jauz"
      },
      "source": [
        "# Question 5 (2 pt)\n",
        "Given\n",
        "```\n",
        "car_brand_list = ['Benz', 'Honda', 'Toyota', 'BMW', 'MG']\n",
        "car_brand_tuple = ('Benz', 'Honda', 'Toyota', 'BMW', 'MG')\n",
        "car_brand_set = {'Benz', 'Honda', 'Toyota', 'BMW', 'MG'}\n",
        "```\n",
        "Determine the second member of each collection\n"
      ]
    },
    {
      "cell_type": "code",
      "source": [
        "car_brand_list = ['Benz', 'Honda', 'Toyota', 'BMW', 'MG']\n",
        "car_brand_tuple = ('Benz', 'Honda', 'Toyota', 'BMW', 'MG')\n",
        "car_brand_set = {'Benz', 'Honda', 'Toyota', 'BMW', 'MG'}\n",
        "\n",
        "print(\"The second member of car_brand_list:\", car_brand_list[1])\n",
        "print(\"The second member of car_brand_tuple :\", car_brand_tuple[1])\n",
        "print(\"The second member of car_brand_set: \", list(car_brand_set)[1])"
      ],
      "metadata": {
        "colab": {
          "base_uri": "https://localhost:8080/"
        },
        "id": "c3Nad9sCvtvr",
        "outputId": "3ecb4606-f028-49c8-d24d-0905fbaac843"
      },
      "execution_count": 17,
      "outputs": [
        {
          "output_type": "stream",
          "name": "stdout",
          "text": [
            "The second member of car_brand_list: Honda\n",
            "The second member of car_brand_tuple : Honda\n",
            "The second member of car_brand_set:  Honda\n"
          ]
        }
      ]
    },
    {
      "cell_type": "code",
      "metadata": {
        "colab": {
          "base_uri": "https://localhost:8080/"
        },
        "outputId": "28593dea-acd0-4302-8496-af169d36ebde",
        "id": "0YBcKURdjau0"
      },
      "source": [
        "carCollection = []\n",
        "# 1. set\n",
        "\n",
        "print('1. ',type(carCollection))\n",
        "# 2. tuple\n",
        "\n",
        "print('2. ',type(carCollection))\n",
        "# 3. list\n",
        "\n",
        "print('3. ',type(carCollection))"
      ],
      "execution_count": null,
      "outputs": [
        {
          "output_type": "stream",
          "text": [
            "1.  <class 'list'>\n",
            "2.  <class 'list'>\n",
            "3.  <class 'list'>\n"
          ],
          "name": "stdout"
        }
      ]
    },
    {
      "cell_type": "code",
      "metadata": {
        "colab": {
          "base_uri": "https://localhost:8080/"
        },
        "outputId": "7c9c7ced-81f3-4cb6-b0a5-cfc94bb4fd54",
        "id": "ZrRJ3ZWQjTxl"
      },
      "source": [
        "thisdict = {\n",
        "  \"brand\": \"Ford\",\n",
        "  \"model\": \"Mustang\",\n",
        "  \"year\": 1964\n",
        "}\n",
        "thisdict['color'] = 'yellow'\n",
        "thisdict.update({'color': 'yellow1'})\n",
        "thisdict['color'] = 'red'\n",
        "\n",
        "print(thisdict)"
      ],
      "execution_count": null,
      "outputs": [
        {
          "output_type": "stream",
          "text": [
            "{'brand': 'Ford', 'model': 'Mustang', 'year': 1964, 'color': 'red'}\n"
          ],
          "name": "stdout"
        }
      ]
    },
    {
      "cell_type": "code",
      "metadata": {
        "colab": {
          "base_uri": "https://localhost:8080/"
        },
        "outputId": "28593dea-acd0-4302-8496-af169d36ebde",
        "id": "eBclx6qOjTxl"
      },
      "source": [
        "carCollection = []\n",
        "# 1. set\n",
        "\n",
        "print('1. ',type(carCollection))\n",
        "# 2. tuple\n",
        "\n",
        "print('2. ',type(carCollection))\n",
        "# 3. list\n",
        "\n",
        "print('3. ',type(carCollection))"
      ],
      "execution_count": null,
      "outputs": [
        {
          "output_type": "stream",
          "text": [
            "1.  <class 'list'>\n",
            "2.  <class 'list'>\n",
            "3.  <class 'list'>\n"
          ],
          "name": "stdout"
        }
      ]
    },
    {
      "cell_type": "code",
      "source": [],
      "metadata": {
        "id": "0DzbGOmxj8WL"
      },
      "execution_count": null,
      "outputs": []
    },
    {
      "cell_type": "markdown",
      "metadata": {
        "id": "Q6UpuvwE2BGw"
      },
      "source": [
        "# Question 6 (2 pt)\n",
        "Word processing in Python\n",
        "\n",
        "str_1 = '''Bitcoin is a decentralized digital currency that can be transferred on the peer-to-peer bitcoin network. Bitcoin transactions are verified by network nodes through cryptography and recorded in a public distributed ledger called a blockchain.'''\n",
        "\n",
        "str_2 = '''Ethereum is a decentralized, open-source blockchain with smart contract functionality. Ether is the native cryptocurrency of the platform. Among cryptocurrencies, Ether is second only to Bitcoin in market capitalization. Ethereum was conceived in 2013 by programmer Vitalik Buterin.'''\n",
        "\n",
        "Given the following two strings,\n",
        "- Seperate the first string to the list of sentences\n",
        "- Seperate the second string to the list of sentences\n",
        "- Seperate the first string to the list of words\n",
        "- Seperate the second string to the list of words\n",
        "\n",
        "- find the set of unique words in str_1\n",
        "- find the set of unique words in str_2\n",
        "- find the set of unique words that are in both paragraphs\n",
        "- find the set of words that are in the first paragraph but not in - the second paragraph\n",
        "- find the set of words that are in either of both paragraphs\n",
        "\n",
        "\n",
        "\n",
        "\n",
        "\n"
      ]
    },
    {
      "cell_type": "code",
      "source": [
        "str_1 = '''Bitcoin is a decentralized digital currency that can be transferred\n",
        "on the peer-to-peer bitcoin network. Bitcoin transactions are verified by network\n",
        "nodes through cryptography and recorded in a public distributed ledger called a blockchain.'''\n",
        "\n",
        "str_2 = '''Ethereum is a decentralized and open-source blockchain with smart\n",
        "contract functionality . Ether is the native cryptocurrency of the platform .\n",
        "Among cryptocurrencies , Ether is second only to Bitcoin in market capitalization.\n",
        "Ethereum was conceived in 2013 by programmer Vitalik Buterin.'''\n",
        "\n",
        "#Seperate the first string to the list of sentences\n",
        "print('The list of sentences in str_1: ',str_1_set)\n",
        "print('The list of sentences in str_1: ',str_2_set)\n",
        "str_1_set = str_1.split(\". \")\n",
        "str_2_set = str_2.split(\". \")\n",
        "\n",
        "words_str1 = str_1.split()\n",
        "print(\" the first string to the list of words is:\",words_str1)\n",
        "words_str2 = str_2.split()\n",
        "print(\" the second string to the list of words is:\",words_str2)\n",
        "\n",
        "words_u1 = str_1.split()\n",
        "unique_words1 = set(words_u1)\n",
        "print(\"unique words in str_1 is:\",unique_words1)\n",
        "words_u2 = str_2.split()\n",
        "unique_words2 = set(words_u2)\n",
        "print(\"unique words in str_2 is:\",unique_words2)\n",
        "\n",
        "print(\"set of unique words that are in both paragraphs\",unique_words1 & unique_words2 )\n",
        "print(\"set of words that are in the first paragraph but not in - the second paragraph\",unique_words1 - unique_words2)\n",
        "print(\"set words that are in either of both paragraphs\",unique_words1.union(unique_words2))"
      ],
      "metadata": {
        "id": "CYp_SDoVH4S9",
        "colab": {
          "base_uri": "https://localhost:8080/"
        },
        "outputId": "e61eb796-42f0-4ce5-ea74-8678503cba93"
      },
      "execution_count": null,
      "outputs": [
        {
          "output_type": "stream",
          "name": "stdout",
          "text": [
            "The list of sentences in str_1:  ['Bitcoin is a decentralized digital currency that can be transferred\\non the peer-to-peer bitcoin network', 'Bitcoin transactions are verified by network\\nnodes through cryptography and recorded in a public distributed ledger called a blockchain.']\n",
            "The list of sentences in str_1:  ['Ethereum is a decentralized and open-source blockchain with smart\\ncontract functionality ', 'Ether is the native cryptocurrency of the platform .\\nAmong cryptocurrencies , Ether is second only to Bitcoin in market capitalization.\\nEthereum was conceived in 2013 by programmer Vitalik Buterin.']\n",
            " the first string to the list of words is: ['Bitcoin', 'is', 'a', 'decentralized', 'digital', 'currency', 'that', 'can', 'be', 'transferred', 'on', 'the', 'peer-to-peer', 'bitcoin', 'network.', 'Bitcoin', 'transactions', 'are', 'verified', 'by', 'network', 'nodes', 'through', 'cryptography', 'and', 'recorded', 'in', 'a', 'public', 'distributed', 'ledger', 'called', 'a', 'blockchain.']\n",
            " the second string to the list of words is: ['Ethereum', 'is', 'a', 'decentralized', 'and', 'open-source', 'blockchain', 'with', 'smart', 'contract', 'functionality', '.', 'Ether', 'is', 'the', 'native', 'cryptocurrency', 'of', 'the', 'platform', '.', 'Among', 'cryptocurrencies', ',', 'Ether', 'is', 'second', 'only', 'to', 'Bitcoin', 'in', 'market', 'capitalization.', 'Ethereum', 'was', 'conceived', 'in', '2013', 'by', 'programmer', 'Vitalik', 'Buterin.']\n",
            "unique words in str_1 is: {'in', 'a', 'cryptography', 'on', 'Bitcoin', 'peer-to-peer', 'through', 'decentralized', 'can', 'recorded', 'public', 'transferred', 'distributed', 'that', 'digital', 'network.', 'network', 'currency', 'are', 'by', 'called', 'bitcoin', 'be', 'verified', 'nodes', 'transactions', 'and', 'is', 'the', 'ledger', 'blockchain.'}\n",
            "unique words in str_2 is: {'to', 'with', '2013', 'in', 'a', 'Bitcoin', ',', 'platform', 'second', '.', 'market', 'native', 'decentralized', 'functionality', 'Buterin.', 'programmer', 'contract', 'capitalization.', 'of', 'only', 'smart', 'Ether', 'conceived', 'blockchain', 'by', 'Among', 'Ethereum', 'open-source', 'Vitalik', 'cryptocurrencies', 'cryptocurrency', 'and', 'is', 'the', 'was'}\n",
            "set of unique words that are in both paragraphs {'in', 'and', 'a', 'decentralized', 'Bitcoin', 'is', 'the', 'by'}\n",
            "set of words that are in the first paragraph but not in - the second paragraph {'cryptography', 'on', 'peer-to-peer', 'through', 'can', 'public', 'recorded', 'transferred', 'distributed', 'that', 'digital', 'network.', 'network', 'currency', 'are', 'called', 'bitcoin', 'be', 'verified', 'nodes', 'transactions', 'ledger', 'blockchain.'}\n",
            "set words that are in either of both paragraphs {'to', 'a', 'on', ',', 'second', 'through', 'market', 'native', 'functionality', 'recorded', 'contract', 'only', 'smart', 'network.', 'network', 'currency', 'Ether', 'are', 'conceived', 'by', 'Among', 'called', 'open-source', 'Vitalik', 'be', 'cryptocurrencies', 'nodes', 'cryptocurrency', 'and', 'is', 'the', 'blockchain.', 'with', '2013', 'in', 'cryptography', 'Bitcoin', 'peer-to-peer', 'platform', '.', 'decentralized', 'Buterin.', 'programmer', 'can', 'public', 'capitalization.', 'transferred', 'distributed', 'of', 'that', 'digital', 'blockchain', 'Ethereum', 'bitcoin', 'verified', 'transactions', 'was', 'ledger'}\n"
          ]
        }
      ]
    },
    {
      "cell_type": "markdown",
      "metadata": {
        "id": "KZi6Ykpy1K9E"
      },
      "source": [
        "# Question 7 (2 pt)\n",
        "User-password using dict"
      ]
    },
    {
      "cell_type": "markdown",
      "metadata": {
        "id": "5tV1Wi1YwBlX"
      },
      "source": [
        "For the following code that allow user to create/update account by providing new username, password, first name, last name, and email address and insert them in user_pwd_dict and usr_info_dict as follows:\n",
        "\n",
        "1. Execute code to create two accounts with following details:\n",
        "\n",
        "```\n",
        "***Create new account!*******\n",
        "Username: test\n",
        "Password: 1234\n",
        "First name: Babe\n",
        "Lsat name: Johnson\n",
        "Email: Babe_J@gmail.com\n",
        "*****************************\n",
        "```\n",
        "\n",
        "```\n",
        "***Create new account!*******\n",
        "Username: admin\n",
        "Password: admin1234\n",
        "First name: Sophia\n",
        "Lsat name: Garcia\n",
        "Email: Sophia.G@hotmail.com\n",
        "*****************************\n",
        "```\n",
        "\n",
        "2. Write code to retrieve password, First name, Last name, and email from user_dict by inputting the correct username\n",
        "\n",
        "Example:\n",
        "```\n",
        "Enter the username to retrieve: test\n",
        "Password=> 1234\n",
        "First name=> Babe\n",
        "Last name=> Johnson\n",
        "Email=> Babe_J@gmail.com\n",
        "```\n"
      ]
    },
    {
      "cell_type": "code",
      "source": [
        "usr_info_dict = {}\n",
        "user_pwd_dict = {}\n",
        "user_fistname_dict = {}\n",
        "user_lastname_dict = {}\n",
        "user_email_dict = {}"
      ],
      "metadata": {
        "id": "lNQkiJEHAHwI"
      },
      "execution_count": null,
      "outputs": []
    },
    {
      "cell_type": "code",
      "source": [
        "print(\"***Create new account!*******\")\n",
        "username = input(\"Username: \")\n",
        "password = input(\"Password: \")\n",
        "first_name = input(\"First name: \")\n",
        "last_name = input(\"Last name: \")\n",
        "email = input(\"Email: \")\n",
        "\n",
        "user_pwd_dict[username] = password\n",
        "user_fistname_dict[username] = first_name\n",
        "user_lastname_dict[username] = last_name\n",
        "user_email_dict[username] = email\n",
        "usr_info_dict[username] = {'first_name': first_name, 'last_name': last_name, 'email': email}\n",
        "print(\"*****************************\")\n",
        "print(\"***Create new account!*******\")\n",
        "username = input(\"Username: \")\n",
        "password = input(\"Password: \")\n",
        "first_name = input(\"First name: \")\n",
        "last_name = input(\"Last name: \")\n",
        "email = input(\"Email: \")\n",
        "\n",
        "user_pwd_dict[username] = password\n",
        "user_fistname_dict[username] = first_name\n",
        "user_lastname_dict[username] = last_name\n",
        "user_email_dict[username] = email\n",
        "usr_info_dict[username] = {'first_name': first_name, 'last_name': last_name, 'email': email}\n",
        "print(\"*****************************\")"
      ],
      "metadata": {
        "colab": {
          "base_uri": "https://localhost:8080/"
        },
        "id": "9I4Bc57K82vZ",
        "outputId": "5209e93f-a329-4096-9692-1d95ad443ce9"
      },
      "execution_count": null,
      "outputs": [
        {
          "output_type": "stream",
          "name": "stdout",
          "text": [
            "***Create new account!*******\n",
            "Username: User1\n",
            "Password: test123\n",
            "First name: rachel\n",
            "Last name: naja\n",
            "Email:  Babe_J@gmail.com\n",
            "*****************************\n",
            "***Create new account!*******\n",
            "Username: User2\n",
            "Password: test321\n",
            "First name: adam\n",
            "Last name: smith\n",
            "Email: adam.G@hotmail.com\n",
            "*****************************\n"
          ]
        }
      ]
    },
    {
      "cell_type": "code",
      "source": [
        "print(user_pwd_dict)"
      ],
      "metadata": {
        "colab": {
          "base_uri": "https://localhost:8080/"
        },
        "id": "WokOmOM79oKO",
        "outputId": "0e8a30a7-1ee1-486e-8726-80898233996c"
      },
      "execution_count": null,
      "outputs": [
        {
          "output_type": "stream",
          "name": "stdout",
          "text": [
            "{' test': '1234', 'User1': 'test123', 'User2': 'test321'}\n"
          ]
        }
      ]
    },
    {
      "cell_type": "code",
      "source": [
        "print(usr_info_dict)"
      ],
      "metadata": {
        "colab": {
          "base_uri": "https://localhost:8080/"
        },
        "id": "8G5nXimR_13o",
        "outputId": "639554e1-de5b-4694-ab29-aa98d4f4652d"
      },
      "execution_count": null,
      "outputs": [
        {
          "output_type": "stream",
          "name": "stdout",
          "text": [
            "{' test': {'first_name': 'Babe', 'last_name': 'Johnson', 'email': 'Babe_J@gmail.com'}, 'User1': {'first_name': 'rachel', 'last_name': 'naja', 'email': ' Babe_J@gmail.com'}, 'User2': {'first_name': 'adam', 'last_name': 'smith', 'email': 'adam.G@hotmail.com'}}\n"
          ]
        }
      ]
    },
    {
      "cell_type": "code",
      "source": [
        "pwd = input(\"Enter the username to retrieve: \")\n",
        "print(\"Password=>  \", user_pwd_dict[pwd])\n",
        "print(\"firstname=>\",user_fistname_dict[pwd])\n",
        "print(\"lastname=>\",user_lastname_dict[pwd])\n",
        "print(\"email=>\",user_email_dict[pwd])\n"
      ],
      "metadata": {
        "colab": {
          "base_uri": "https://localhost:8080/"
        },
        "id": "Vh7r-5Fd__an",
        "outputId": "9365138d-be2e-40bf-d9f9-a34d02789b42"
      },
      "execution_count": null,
      "outputs": [
        {
          "output_type": "stream",
          "name": "stdout",
          "text": [
            "Enter the username to retrieve: User1\n",
            "Password=>   test123\n",
            "firstname=> rachel\n",
            "lastname=> naja\n",
            "email=>  Babe_J@gmail.com\n"
          ]
        }
      ]
    },
    {
      "cell_type": "code",
      "source": [
        "pwd = input(\"Enter the username to retrieve: \")\n",
        "print(\"Password=>  \", user_pwd_dict[pwd])\n",
        "print(\"firstname=>\",user_fistname_dict[pwd])\n",
        "print(\"lastname=>\",user_lastname_dict[pwd])\n",
        "print(\"email=>\",user_email_dict[pwd])"
      ],
      "metadata": {
        "id": "fgUQzzs5cQc1",
        "outputId": "a25f0238-2aea-4aaa-e0d2-b3c2424d7a47",
        "colab": {
          "base_uri": "https://localhost:8080/"
        }
      },
      "execution_count": null,
      "outputs": [
        {
          "output_type": "stream",
          "name": "stdout",
          "text": [
            "Enter the username to retrieve: User2\n",
            "Password=>   test321\n",
            "firstname=> adam\n",
            "lastname=> smith\n",
            "email=> adam.G@hotmail.com\n"
          ]
        }
      ]
    }
  ]
}