{
  "cells": [
    {
      "cell_type": "markdown",
      "metadata": {
        "id": "0aWCBQUvdyEz"
      },
      "source": [
        "# Homework\n",
        "\n",
        "1. Let the user enter his/her name and his/her year of birth (e.g. Bob, 1999).\n",
        "Then compute his/her current age and print out a greeting message with his/her age  (eg. “Hello Bob, you are  23 years old).\n",
        "\n",
        "2. Let the user enter the ages of ten people in their class in integer (e.g. Age of 10 people: 15, 26, 17, 15, 15, 25, 20, 24, 22, 23). Print out the total\n",
        "age and the average age.\n",
        "\n",
        "3. Let the user enter the length of two sides of a right triangle in float (e.g. Two sides of a right triangle: 25.2, 21.1). Then\n",
        "calculate the length of the hypotenuse and the area of the triangle.\n",
        "\n",
        "4. Enter a number of sides for a regular polygon (minimum 3) and calculate\n",
        "the exterior angles.\n",
        "\n",
        "5. Let the user specify the distance to the place they want to travel and the speed at which they intend to travel (e.g. Distance and Speed: 730, 80). Then calculate the time it should take them.\n",
        "\n",
        "6. Let the user enter the information necessary for you to calculate the\n",
        "volume of a cylinder with an appropriate prompt\n",
        "(e.g. Height and Width: 25, 4).\n",
        "\n",
        "***All the input shall be put within a single line seperated by a comma (,)\n",
        "e.g., Height and Width: 25, 4\n",
        "\n"
      ]
    },
    {
      "cell_type": "code",
      "execution_count": 2,
      "metadata": {
        "id": "6iSiYI4OnYlL",
        "colab": {
          "base_uri": "https://localhost:8080/"
        },
        "outputId": "c3ed4da9-d36e-4ca4-bbba-0d922cee1f6f"
      },
      "outputs": [
        {
          "output_type": "stream",
          "name": "stdout",
          "text": [
            "Enter your name: chel\n",
            "year of birth: 2005\n",
            "hello chel, you are 18 years old.\n"
          ]
        }
      ],
      "source": [
        "name = input(\"Enter your name: \")\n",
        "year_of_birth = int(input(\"year of birth: \"))\n",
        "hundredth_year = 2023 - year_of_birth\n",
        "print(f'hello {name}, you are {hundredth_year} years old.')"
      ]
    },
    {
      "cell_type": "code",
      "source": [
        "#2\n",
        "age_1,age_2,age_3,age_4,age_5,age_6,age_7,age_8,age_9,age_10 = input(\"enter the ages of ten people in their class:\").split(',')\n",
        "\n",
        "age_1 = int(age_1)\n",
        "age_2 = int(age_2)\n",
        "age_3 = int(age_3)\n",
        "age_4 = int(age_4)\n",
        "age_5 = int(age_5)\n",
        "age_6 = int(age_6)\n",
        "age_7 = int(age_7)\n",
        "age_8 = int(age_8 )\n",
        "age_9 = int(age_9)\n",
        "age_10 = int(age_10 )\n",
        "\n",
        "list = [age_1,age_2,age_3,age_4,age_5,age_6,age_7,age_8,age_9,age_10]\n",
        "print(\"total age is\", sum(list))\n",
        "avg = sum(list) / len(list)\n",
        "print(\" average age is\",(avg))"
      ],
      "metadata": {
        "id": "h4xvGYDd-jLq",
        "colab": {
          "base_uri": "https://localhost:8080/"
        },
        "outputId": "165ce943-e742-45ff-e91f-23a54ae48970"
      },
      "execution_count": null,
      "outputs": [
        {
          "output_type": "stream",
          "name": "stdout",
          "text": [
            "enter the ages of ten people in their class:15, 26, 17, 15, 15, 25, 20, 24, 22, 23\n",
            "total age is 202\n",
            " average age is 20.2\n"
          ]
        }
      ]
    },
    {
      "cell_type": "code",
      "source": [
        "#3\n",
        "import math\n",
        "side_a,side_b =  input(\"Enter the length of side_a and side_b  = \").split(',')\n",
        "side_a = float(side_a)\n",
        "side_b = float(side_b)\n",
        "the_length_of_the_hypotenuse = (math.sqrt(side_a**2 + side_b**2))\n",
        "print(\"the_length_of_the_hypotenuse is:\",the_length_of_the_hypotenuse)"
      ],
      "metadata": {
        "colab": {
          "base_uri": "https://localhost:8080/"
        },
        "id": "eu29XcskCxKF",
        "outputId": "588911b0-e5bc-494d-eefb-b65e3062ea53"
      },
      "execution_count": null,
      "outputs": [
        {
          "output_type": "stream",
          "name": "stdout",
          "text": [
            "Enter the length of side_a and side_b  = 25.2, 21.1\n",
            "the_length_of_the_hypotenuse is: 32.86715685908959\n"
          ]
        }
      ]
    },
    {
      "cell_type": "code",
      "source": [
        "#4\n",
        "the_exterior_angles = input(\"Enter a number of sides for a regular polygon(minimum 3)  = \")\n",
        "the_exterior_angles = int(the_exterior_angles)\n",
        "result = (360/int(the_exterior_angles))\n",
        "print(\"the exterior angles is\",result)"
      ],
      "metadata": {
        "colab": {
          "base_uri": "https://localhost:8080/"
        },
        "id": "8ckE3aeFDOwc",
        "outputId": "83494e8f-8e7c-40c6-c8ae-b469660ae0f4"
      },
      "execution_count": null,
      "outputs": [
        {
          "output_type": "stream",
          "name": "stdout",
          "text": [
            "Enter a number of sides for a regular polygon(minimum 3)  = 5\n",
            "the exterior angles is 72.0\n"
          ]
        }
      ]
    },
    {
      "cell_type": "code",
      "source": [
        "#5\n",
        "distance,speed  = input(\"Enter Distance and Speed = \").split(',')\n",
        "speed = float(distance)\n",
        "distance = float(speed)\n",
        "time = (distance/speed)\n",
        "print(\"time should take them is\",time,\"hour\")"
      ],
      "metadata": {
        "colab": {
          "base_uri": "https://localhost:8080/"
        },
        "id": "V32NK1tpCzek",
        "outputId": "cf1327a3-55b9-42d2-d94e-0d21373df2c6"
      },
      "execution_count": null,
      "outputs": [
        {
          "output_type": "stream",
          "name": "stdout",
          "text": [
            "Enter Distance and Speed = 50,30\n",
            "time it should take them is 1.0 hour\n"
          ]
        }
      ]
    },
    {
      "cell_type": "code",
      "source": [
        "#6\n",
        "r,h = input(\"Enter Radius and Height of cylinder you want to calculate \").split(',')\n",
        "\n",
        "r = int(r)\n",
        "h = int(h)\n",
        "pi=22/7\n",
        "volume = pi * r * r * h\n",
        "print(\"volume of a cylinder is\",volume)"
      ],
      "metadata": {
        "colab": {
          "base_uri": "https://localhost:8080/"
        },
        "id": "REsiggDZDwbm",
        "outputId": "ffd406bb-fa2c-49cc-c8b8-2d81dc7f3222"
      },
      "execution_count": null,
      "outputs": [
        {
          "output_type": "stream",
          "name": "stdout",
          "text": [
            "Enter Radius and Height of cylinder you want to calculate 25,30\n",
            "volume of a cylinder 58928.57142857143\n"
          ]
        }
      ]
    }
  ],
  "metadata": {
    "colab": {
      "provenance": []
    },
    "kernelspec": {
      "display_name": "Python 3",
      "name": "python3"
    },
    "language_info": {
      "name": "python"
    }
  },
  "nbformat": 4,
  "nbformat_minor": 0
}