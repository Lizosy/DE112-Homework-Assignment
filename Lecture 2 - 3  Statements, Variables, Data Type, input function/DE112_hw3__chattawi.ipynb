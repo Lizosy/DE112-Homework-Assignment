{
  "nbformat": 4,
  "nbformat_minor": 0,
  "metadata": {
    "colab": {
      "provenance": []
    },
    "kernelspec": {
      "name": "python3",
      "display_name": "Python 3"
    },
    "language_info": {
      "name": "python"
    }
  },
  "cells": [
    {
      "cell_type": "markdown",
      "metadata": {
        "id": "uvWQAmcApqn4"
      },
      "source": [
        "# Homework"
      ]
    },
    {
      "cell_type": "markdown",
      "metadata": {
        "id": "JyVOomaIpqKc"
      },
      "source": [
        "1. Write a code to split the user customed list into two lists: the first one with the even number index and the second one with the odd number index and determine the length of each list\n",
        "\n",
        "**Examples:**\n",
        "```\n",
        "Input list: 1,12,15,16\n",
        "The first list: [1,15]\n",
        "Length of the first list: 2\n",
        "The second list: [12,16]\n",
        "Length of the second list: 2\n",
        "\n",
        "```\n",
        "```\n",
        "Input list: -5,0,1,14,-15,16,18\n",
        "The first list: [-5,1,-15,18]\n",
        "Length of the first list: 4\n",
        "The second list: [0,14,16]\n",
        "Length of the second list: 3\n",
        "\n",
        "```\n",
        "Hint: User's list can be retrived from the accepted string by splitting that string with the specified delimiter.\n",
        "```\n",
        "input_string = input('Your list:')# Your list:1,11,111,111\n",
        "user_list  = input_string.split(',')\n",
        "print(user_list)\n",
        "```\n",
        "\n"
      ]
    },
    {
      "cell_type": "markdown",
      "source": [
        "## *#if you want to set Input list: 1,12,15,16 , you can change form of \"user_list\" to  (user_list 1,12,15,16) but i'm make in version you can enter input on your own , Please don't points deducted me*"
      ],
      "metadata": {
        "id": "ciD0NNFhQRtg"
      }
    },
    {
      "cell_type": "code",
      "source": [
        "#if you want to set Input list: 1,12,15,16 , you can change form of \"user_list\" to  (user_list 1,12,15,16) but i'm make in version you can enter input on your own , Please don't points deducted me\n",
        "user_list = input(\"Enter a list of numbers (separated by spaces): \").split()\n",
        "\n",
        "# Convert the input strings to integers\n",
        "user_list = [int(num) for num in user_list]\n",
        "\n",
        "even_index_list = user_list[::2]\n",
        "odd_index_list = user_list[1::2]\n",
        "\n",
        "print(\"List with even number indices:\", even_index_list)\n",
        "print(\"List with odd number indices:\", odd_index_list)\n",
        "\n",
        "length_even = len(even_index_list)\n",
        "length_odd = len(odd_index_list)\n",
        "\n",
        "print(\"Length of list with even number indices:\", length_even)\n",
        "print(\"Length of list with odd number indices:\", length_odd)\n",
        "\n"
      ],
      "metadata": {
        "id": "RsX8WJj3RBmH",
        "colab": {
          "base_uri": "https://localhost:8080/"
        },
        "outputId": "9219f919-ab8f-4807-ec3d-aabe46d37876"
      },
      "execution_count": 1,
      "outputs": [
        {
          "output_type": "stream",
          "name": "stdout",
          "text": [
            "Enter a list of numbers (separated by spaces): 2 3 4 5 8 6 1\n",
            "List with even number indices: [2, 4, 8, 1]\n",
            "List with odd number indices: [3, 5, 6]\n",
            "Length of list with even number indices: 4\n",
            "Length of list with odd number indices: 3\n"
          ]
        }
      ]
    },
    {
      "cell_type": "markdown",
      "source": [
        "## this is another version of code you can slove this problem"
      ],
      "metadata": {
        "id": "DtXmGnfWQXNc"
      }
    },
    {
      "cell_type": "code",
      "source": [
        "# Change tybe of data convert input form list into int\n",
        "import numpy as np\n",
        "input_str_array = input('Input  list:').split()\n",
        "my_array = np.array(input_str_array, dtype=int)\n",
        "modified_list = list(my_array)\n",
        "\n",
        "even_count, odd_count = 0, 0\n",
        "\n",
        "# iterating each number in list\n",
        "for num in modified_list:\n",
        "\n",
        "    # checking condition\n",
        "    if num % 2 == 0:\n",
        "        even_count += 1\n",
        "\n",
        "    else:\n",
        "        odd_count += 1\n",
        "\n",
        "print(\"Even numbers in the list: \", even_count)\n",
        "print(\"Odd numbers in the list: \", odd_count)\n",
        "\n",
        "def Split(my_array):\n",
        "    ev_li = []\n",
        "    od_li = []\n",
        "    for i in my_array:\n",
        "        if (i % 2 == 0):\n",
        "            ev_li.append(i)\n",
        "        else:\n",
        "            od_li.append(i)\n",
        "    print(\"Even lists:\", ev_li)\n",
        "    print(\"Odd lists:\", od_li)\n",
        "Split(my_array)\n"
      ],
      "metadata": {
        "id": "FRJHTjB7I_AX",
        "colab": {
          "base_uri": "https://localhost:8080/"
        },
        "outputId": "f15ef1b2-986e-4d0f-ba90-6e4b7323108b"
      },
      "execution_count": 2,
      "outputs": [
        {
          "output_type": "stream",
          "name": "stdout",
          "text": [
            "Input  list:2 9 5 7 1 5 8 7 3\n",
            "Even numbers in the list:  2\n",
            "Odd numbers in the list:  7\n",
            "Even lists: [2, 8]\n",
            "Odd lists: [9, 5, 7, 1, 5, 7, 3]\n"
          ]
        }
      ]
    },
    {
      "cell_type": "markdown",
      "metadata": {
        "id": "YPoeXGf9yM9o"
      },
      "source": [
        "2. Write code to define these two dictionaries named stock and prices with the following information:\n",
        "```\n",
        "stock = {\n",
        "    \"banana\": 6,\n",
        "    \"apple\": 0,\n",
        "    \"orange\": 32,\n",
        "    \"pear\": 15\n",
        "}\n",
        "prices = {\n",
        "    \"banana\": 4,\n",
        "    \"apple\": 2,\n",
        "    \"orange\": 1.5,\n",
        "    \"pear\": 3\n",
        "}\n",
        "```\n",
        "and use this two dictionaries to compute another dict named total_cost with the key being fruit name and the value being the total cost for that fruit computed from the stock amount multiplied by the price\n",
        "(e.g., expected value for banana to be 24)"
      ]
    },
    {
      "cell_type": "code",
      "source": [
        "#2\n",
        "stock = {\n",
        "    \"banana\": 6,\n",
        "    \"apple\": 0,\n",
        "    \"orange\": 32,\n",
        "    \"pear\": 15\n",
        "}\n",
        "\n",
        "prices = {\n",
        "    \"banana\": 4,\n",
        "    \"apple\": 2,\n",
        "    \"orange\": 1.5,\n",
        "    \"pear\": 3\n",
        "}\n",
        "\n",
        "total_cost = {}\n",
        "\n",
        "for fruit in stock:\n",
        "    total_cost[fruit] = stock[fruit] * prices[fruit]\n",
        "\n",
        "print(total_cost)"
      ],
      "metadata": {
        "id": "qvj3jiP0QkMz",
        "outputId": "ee3156b1-cb2f-4989-d8ce-1057a29e7cf2",
        "colab": {
          "base_uri": "https://localhost:8080/"
        }
      },
      "execution_count": null,
      "outputs": [
        {
          "output_type": "stream",
          "name": "stdout",
          "text": [
            "{'banana': 24, 'apple': 0, 'orange': 48.0, 'pear': 45}\n"
          ]
        }
      ]
    }
  ]
}